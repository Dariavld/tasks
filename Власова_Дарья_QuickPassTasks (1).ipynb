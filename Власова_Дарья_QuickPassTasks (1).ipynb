{
  "nbformat": 4,
  "nbformat_minor": 0,
  "metadata": {
    "colab": {
      "provenance": []
    },
    "kernelspec": {
      "name": "python3",
      "display_name": "Python 3"
    },
    "language_info": {
      "name": "python"
    }
  },
  "cells": [
    {
      "cell_type": "markdown",
      "source": [
        "#### Задача 1. \n",
        "\n",
        "Напишите программу, которая будет считывать пары чисел в цикле, затем для каждой пары посчитает деление ее первого члена на второй и выведет результат в форматированном виде таким образом, чтобы исходные числа занимали такое пространство, какова максимальная длина самого большого числа + 1, а результат был выравнен по правому краю и округлен до двух знаков после запятой. \n",
        "\n",
        "Пример ввода-вывода:\n",
        "\n",
        "    3 2\n",
        "    5 3\n",
        "    18 2\n",
        "\n",
        "    3   / 2  = 1.50\n",
        "    5   / 3  = 1.67\n",
        "    18  / 2  = 9.00\n",
        "\n",
        "(размер первого окошка - 3, между цифрами идет ' / ', размер второго окошка - 2, потом ' = ', потом округленные числа ответов. "
      ],
      "metadata": {
        "id": "gQJ_IE75GhYZ"
      }
    },
    {
      "cell_type": "markdown",
      "source": [
        "#### Задача 2. \n",
        "\n",
        "Пользователь вводит с клавиатуры какие-то числа (необходимо считывать их в цикле), пока не введет ноль. Нужно посчитать стандартное отклонение по формуле из википедии (можно выбрать любую из двух формул там). Списками пользоваться нельзя."
      ],
      "metadata": {
        "id": "jBnAiuR-IPYQ"
      }
    },
    {
      "cell_type": "code",
      "source": [
        "#np.std()-\n",
        "#loop+формула-нет,список при len в формуле-\n",
        "from math import *\n",
        "import numpy as np\n",
        "import statistics\n",
        "sum_1=0\n",
        "sum_2=0\n",
        "num=0\n",
        "\n",
        "while True:\n",
        "    a=float(input())\n",
        "    if not a and a%1==0:\n",
        "        break\n",
        "    sum_1=a+sum_1\n",
        "    sum_2=a**2\n",
        "    num+=1\n",
        "res=sqrt((sum_2+(sum_1/a)*(sum_1/a)*num-2*sum_1*(sum_1/a))/(num-1))\n",
        "res\n"
      ],
      "metadata": {
        "id": "FVP2etspvwDP"
      },
      "execution_count": null,
      "outputs": []
    },
    {
      "cell_type": "markdown",
      "source": [
        "#### Задача 3. \n",
        "\n",
        "Пользователь вводит какие-то целые числа в бесконечном цикле, пока не введет ноль; программа должна выводить введенное число и согласовать с ним слово \"кролик\", например,\n",
        "\n",
        "    1 кролик\n",
        "    2 кролика\n",
        "    11 кроликов\n",
        "    123 кролика\n",
        "    ..."
      ],
      "metadata": {
        "id": "c9iY1LIHIczA"
      }
    },
    {
      "cell_type": "code",
      "source": [
        "num=str(int(input()))\n",
        "last_d=int(num[-1])\n",
        "two_last=int(num[-2:])\n",
        "\n",
        "while True:\n",
        "  if 11<=two_last<=19 or (5<=last_d<=9) or (two_last in range(10,100,10)): \n",
        "    print(num,'кроликов')\n",
        "  else:\n",
        "    if 2<=last_d<=4:\n",
        "      print(num,'кролика')\n",
        "    elif last_d==0:\n",
        "      break\n",
        "    else:\n",
        "      print(num,'кролик')\n",
        "  break"
      ],
      "metadata": {
        "id": "BrZznIF8JO8o",
        "colab": {
          "base_uri": "https://localhost:8080/"
        },
        "outputId": "b2aaf1ef-a025-42a4-c480-2b083520e74d"
      },
      "execution_count": 7,
      "outputs": [
        {
          "name": "stdout",
          "output_type": "stream",
          "text": [
            "0\n"
          ]
        }
      ]
    },
    {
      "cell_type": "markdown",
      "source": [
        "#### Задача 4. \n",
        "\n",
        "Программа загадывает число от 1 до 1023. Игрок пытается угадать это число, и у него есть 10 попыток. Если игрок вводит загаданное число, программа поздравляет его и заканчивает работу. Иначе программа должна напечатать, введённое число больше или меньше загаданного. Если все 10 попыток неудачны - программа должна написать, что попытки кончились, вывести загаданное число, и предложить сыграть в игру заново (при этом число должно быть загадано другое). Если пользователь вводит число меньше, чем 1, или больше, чем 1023, программа должна об этом сообщить - но не засчитывать попытку (т.е., это не считается неудачной попыткой).\n",
        "\n",
        "Ответьте на вопрос: готовы ли вы ручаться, что угадаете загаданное число за эти 10 попыток?\n",
        "\n",
        "Чтобы загадать рандомное число, нужно использовать функцию randint() из внешнего модуля random."
      ],
      "metadata": {
        "id": "TxNLhtHLJP3g"
      }
    },
    {
      "cell_type": "code",
      "source": [
        "# your code here"
      ],
      "metadata": {
        "id": "UtDGZLWvJU6I"
      },
      "execution_count": null,
      "outputs": []
    },
    {
      "cell_type": "markdown",
      "source": [
        "#### Задача 5. \n",
        "\n",
        "Сортировка с \"ё\": напишите программу, которая будет сортировать слова в списке таким образом, чтобы \"ёлка\" вставала на свое место, и \"ядрёный\" тоже. "
      ],
      "metadata": {
        "id": "xpCE6Jz9JWrx"
      }
    },
    {
      "cell_type": "code",
      "source": [
        "#ёлка - жмла\n",
        "#елка - елма\n",
        "#ядрёный - ѐдсжоьк\n",
        "#ядреный - ѐдсеоьк\n",
        "#ascii\n",
        "input_words=[str(a) for a in input().split()]\n",
        "corstr='абвгдеёжзийклмнопрстуфхцчшщъыьэюя'\n",
        "corstr_new={}\n",
        "cor_new=[]\n",
        "incorstr='абвгдежзийклмнопрстуфхцчшщъыьэюяѐ'\n",
        "incorstr_new={}\n",
        "res=[]\n",
        "\n",
        "for i in range(len(corstr)):\n",
        "    corstr_new[corstr[i]]=incorstr[i]\n",
        "    incorstr_new[incorstr_new[i]]=corstr[i]    \n",
        "for i in range(len(input_words)):\n",
        "    w1=''\n",
        "    for a in input_words[i]:\n",
        "        w1+=corstr_new[a]\n",
        "    cor_new.append(w1)\n",
        "cor_new.sort()\n",
        "for item in cor_new:\n",
        "    w1=''\n",
        "    for a in item:\n",
        "        w1+=incorstr_new[a]\n",
        "    res.append(w1)\n",
        "res     "
      ],
      "metadata": {
        "id": "SLKCdgrAJihx",
        "colab": {
          "base_uri": "https://localhost:8080/",
          "height": 200
        },
        "outputId": "4d57e14a-7de0-46fb-b3f9-d8c86a062b75"
      },
      "execution_count": null,
      "outputs": [
        {
          "name": "stdout",
          "output_type": "stream",
          "text": [
            "ёлка\n"
          ]
        },
        {
          "output_type": "error",
          "ename": "TypeError",
          "evalue": "ignored",
          "traceback": [
            "\u001b[0;31m---------------------------------------------------------------------------\u001b[0m",
            "\u001b[0;31mTypeError\u001b[0m                                 Traceback (most recent call last)",
            "\u001b[0;32m<ipython-input-159-b7f50ada1196>\u001b[0m in \u001b[0;36m<module>\u001b[0;34m\u001b[0m\n\u001b[0;32m----> 1\u001b[0;31m \u001b[0mw\u001b[0m\u001b[0;34m=\u001b[0m\u001b[0;34m[\u001b[0m\u001b[0mord\u001b[0m\u001b[0;34m(\u001b[0m\u001b[0mchr\u001b[0m\u001b[0;34m(\u001b[0m\u001b[0minput\u001b[0m\u001b[0;34m(\u001b[0m\u001b[0;34m)\u001b[0m\u001b[0;34m)\u001b[0m\u001b[0;34m)\u001b[0m\u001b[0;34m]\u001b[0m\u001b[0;34m\u001b[0m\u001b[0;34m\u001b[0m\u001b[0m\n\u001b[0m\u001b[1;32m      2\u001b[0m \u001b[0mw\u001b[0m\u001b[0;34m=\u001b[0m\u001b[0mstr\u001b[0m\u001b[0;34m(\u001b[0m\u001b[0mw\u001b[0m\u001b[0;34m)\u001b[0m\u001b[0;34m\u001b[0m\u001b[0;34m\u001b[0m\u001b[0m\n",
            "\u001b[0;31mTypeError\u001b[0m: an integer is required (got type str)"
          ]
        }
      ]
    },
    {
      "cell_type": "markdown",
      "source": [
        "#### Задача 6. \n",
        "\n",
        "Напишите функцию, которая принимает неограниченное количество параметров - целых чисел и верните все эти числа, возведенные в квадрат, в списке."
      ],
      "metadata": {
        "id": "SIvEya_yJjlR"
      }
    },
    {
      "cell_type": "code",
      "source": [
        "import os\n",
        "import sys\n",
        "\n",
        "def param_sq():\n",
        "    nums=[]\n",
        "    for a in sys.stdin:\n",
        "        a=int(float(a))\n",
        "        res=nums.append(a**2)\n",
        "res"
      ],
      "metadata": {
        "id": "SAH0QLSZJwtx"
      },
      "execution_count": null,
      "outputs": []
    },
    {
      "cell_type": "markdown",
      "source": [
        "#### Задача 7. \n",
        "\n",
        "Напишите функцию, которая принимает список строк и название метода строк и возвращает список из результатов применения этого метода к строкам. Например:\n",
        "\n",
        "\n",
        "    applier(input().split(), upper) \n",
        "\n",
        "должно вернуть список из тех же слов, только написанных заглавными буквами. "
      ],
      "metadata": {
        "id": "4CsFwmXlJx3x"
      }
    },
    {
      "cell_type": "code",
      "source": [
        "#applier(input().split(), upper) \n",
        "def applier(input_list, mycase):\n",
        "    for i in range(len(input_list)):\n",
        "        input_list[i]=getattr(input_list[i],mycase)()\n",
        "    return input_list\n",
        "\n",
        "input_list=input().split()\n",
        "mycase=input() \n",
        "res=applier(input_list,mycase)\n",
        "res"
      ],
      "metadata": {
        "id": "nEuDp-HkKLRq"
      },
      "execution_count": null,
      "outputs": []
    },
    {
      "cell_type": "markdown",
      "source": [
        "#### Задача 8. \n",
        "\n",
        "Напишите функцию, которая будет рекурсивно вычислять число Фибоначчи с номером n по его номеру, но при этом работать она должна за линейное время (то есть, если вы передаете номер 30, ваша программа не должна умереть: рекурсивный вызов внутри функции должен быть только один). \n",
        "\n",
        "Про числа Фибоначчи можно почитать в Википедии. "
      ],
      "metadata": {
        "id": "SR-MmrLqKMah"
      }
    },
    {
      "cell_type": "code",
      "source": [
        "i=0\n",
        "def fib(fn,sn,m):\n",
        "    global counter\n",
        "    i+=1\n",
        "    if m!=0:\n",
        "        return fib(fn+sn,fn,m-1)\n",
        "    elif m==0:\n",
        "        return sn    \n",
        "n = int(input())\n",
        "\n",
        "n\n",
        "i"
      ],
      "metadata": {
        "id": "sU0PbqdfKkQD"
      },
      "execution_count": null,
      "outputs": []
    },
    {
      "cell_type": "markdown",
      "source": [
        "#### Задача 9. \n",
        "\n",
        "Зализняк. Дан текст (на английском языке), состоящий из нескольких предложений. Составьте список всех встретившихся в тексте словоформ, отсортированный в обратном лексикографическом порядке (как в обратном словаре А.А.Зализняка, только вам не надо решать задачу лемматизации). Вам нужно разбить строку на токены, убрать оттуда всё лишнее (т.е. всё, что не является словом, в том числе - числа, любые аббревиатуры с цифрами и вообще всё, в чём есть цифры), отсортировать соответствующим образом, убрать повторы, и напечатать получившийся список. Нельзя заводить вспомогательные списки, запрещается менять туда-сюда порядок букв слов в основном списке. Для токенизации достаточно использовать стандартные методы строк и punctuation из библиотеки string. "
      ],
      "metadata": {
        "id": "bKrber3cKleR"
      }
    },
    {
      "cell_type": "code",
      "source": [
        "# your code here"
      ],
      "metadata": {
        "id": "FXOLzur8LTaq"
      },
      "execution_count": null,
      "outputs": []
    },
    {
      "cell_type": "markdown",
      "source": [
        "#### Задача 10. \n",
        "\n",
        "Напишите функцию, которая читает текст из файла в одной кодировке и перезаписывает его в другой файл в другой кодировке. Функция принимает в качестве аргументов два пути к файлам и две имени кодировки."
      ],
      "metadata": {
        "id": "keiM4OOiLU9y"
      }
    },
    {
      "cell_type": "code",
      "source": [
        "import warnings\n",
        "warnings.filterwarnings('ignore')\n",
        "file_dir_1=input()\n",
        "file_dir_2=input()\n",
        "enc_1,enc_2=input(),input()\n",
        "with open(file_dir_1,encoding=enc_1) as f:\n",
        "    df=f.read()\n",
        "#%load\n",
        "df.encode()\n",
        "df1=df.encode()\n",
        "df2=df1.decode(enc_2)\n",
        "with open(file_dir_2,'w',encoding=enc_2) as f:\n",
        "    df3=f.write(data)\n",
        "#toPandas"
      ],
      "metadata": {
        "id": "2iuswbbJLcPC"
      },
      "execution_count": null,
      "outputs": []
    },
    {
      "cell_type": "markdown",
      "source": [
        "#### Задача 11. \n",
        "\n",
        "В папке data содержатся файлы с англоязычными текстами. Программе передается только путь к этой папке, но не названия файлов (файлы в теории могут добавляться, мы заранее не знаем ни их названий, ни их числа). Во всех файлах есть только стандартные символы пунктуации, цифры и латинские буквы (диакритик нет). Подсчитайте статистику по каждому файлу: у вас должна быть функция, которая считает количество символов в файле, количество слов (достаточно использовать split() и strip()) и количество строк. Статистику запишите в отдельный файл."
      ],
      "metadata": {
        "id": "SZQa8EieLex6"
      }
    },
    {
      "cell_type": "code",
      "source": [
        "# your code here"
      ],
      "metadata": {
        "id": "og9e3pIoLnjq"
      },
      "execution_count": null,
      "outputs": []
    },
    {
      "cell_type": "markdown",
      "source": [
        "#### Задача 12. \n",
        "\n",
        "Напишите функцию для сложения матриц, используя стандартные списки питона. "
      ],
      "metadata": {
        "id": "wtlOzKLaLmWq"
      }
    },
    {
      "cell_type": "code",
      "source": [
        "import numpy as np\n",
        "def matrix_sum(matrix_a, matrix_b):\n",
        "    mtrx=[[0 for a in range(len(matrix_a[0]))] for a in range(len(matrix_a))]\n",
        "    for m in range(len(matrix_a)):\n",
        "        for t in range(len(matrix_a[0])):\n",
        "            mtl[m][t]=m1[m][t]+m2[m][t]\n",
        "    return mtl\n",
        "matrix_a=[[tuple(float(a) for a in input()) for m in range(column)] for t in range(rows)]\n",
        "matrix_b=[[tuple(float(a) for a in input()) for m in range(column)] for t in range(rows)]\n",
        "total=(matrix_sum(matrix_a,matrix_b))\n",
        "total\n",
        "print(np.matrix(total))"
      ],
      "metadata": {
        "id": "RC40l_0LL3xb"
      },
      "execution_count": null,
      "outputs": []
    },
    {
      "cell_type": "markdown",
      "source": [
        "#### Задача 13. \n",
        "\n",
        "Некоторый банк хочет внедрить систему управления счетами клиентов, поддерживающую следующие операции:\n",
        "\n",
        "Пополнение счета клиента.\n",
        "Снятие денег со счета.\n",
        "Запрос остатка средств на счете.\n",
        "Перевод денег между счетами клиентов.\n",
        "Начисление процентов всем клиентам.\n",
        "Вам необходимо реализовать такую систему. Клиенты банка идентифицируются именами (уникальная строка, не содержащая пробелов). Первоначально у банка нет ни одного клиента. Как только для клиента проводится операция пололнения, снятия или перевода денег, ему заводится счет с нулевым балансом. Все дальнейшие операции проводятся только с этим счетом. Сумма на счету может быть как положительной, так и отрицательной, при этом всегда является целым числом.\n",
        "\n",
        "Входной файл содержит последовательность операций. Возможны следующие операции:\n",
        "\n",
        "DEPOSIT name sum - зачислить сумму sum на счет клиента name. Если у клиента нет счета, то счет создается.\n",
        "\n",
        "WITHDRAW name sum - снять сумму sum со счета клиента name. Если у клиента нет счета, то счет создается.\n",
        "\n",
        "BALANCE name - узнать остаток средств на счету клиента name.\n",
        "\n",
        "TRANSFER name1 name2 sum - перевести сумму sum со счета клиента name1 на счет клиента name2. Если у какого-либо клиента нет счета, то ему создается счет.\n",
        "\n",
        "INCOME p - начислить всем клиентам, у которых открыты счета, p% от суммы счета. Проценты начисляются только клиентам с положительным остатком на счету, если у клиента остаток отрицательный, то его счет не меняется. После начисления процентов сумма на счету остается целой, то есть начисляется только целое число денежных единиц. Дробная часть начисленных процентов отбрасывается.\n",
        "\n",
        "Для каждого запроса BALANCE программа должна вывести остаток на счету данного клиента. Если же у клиента с запрашиваемым именем не открыт счет в банке, выведите ERROR."
      ],
      "metadata": {
        "id": "_lnlkrPZL42j"
      }
    },
    {
      "cell_type": "code",
      "source": [
        "# your code here"
      ],
      "metadata": {
        "id": "K31cpfHZMB0d"
      },
      "execution_count": null,
      "outputs": []
    },
    {
      "cell_type": "markdown",
      "source": [
        "#### Задача 14. \n",
        "\n",
        "В некотором текстовом файле дан текст (достаточно длинный). Посчитайте лексическое разнообразие этого текста: то есть, количество уникальных слов в нем, поделенное на общее количество слов. "
      ],
      "metadata": {
        "id": "BzOj_R_-MFkE"
      }
    },
    {
      "cell_type": "code",
      "source": [
        "# your code here"
      ],
      "metadata": {
        "id": "9S1cpLqFMPEi"
      },
      "execution_count": null,
      "outputs": []
    },
    {
      "cell_type": "markdown",
      "source": [
        "#### Задача 15. \n",
        "\n",
        "А теперь (можно для того же текста) составьте частотный словарик для текста. Выведите 10 самых частотных слов. "
      ],
      "metadata": {
        "id": "b5MFu6wSMQqa"
      }
    },
    {
      "cell_type": "code",
      "source": [
        "# your code here"
      ],
      "metadata": {
        "id": "kDaGEKtSMdRj"
      },
      "execution_count": null,
      "outputs": []
    }
  ]
}