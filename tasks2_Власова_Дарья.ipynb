{
  "nbformat": 4,
  "nbformat_minor": 0,
  "metadata": {
    "colab": {
      "provenance": []
    },
    "kernelspec": {
      "name": "python3",
      "display_name": "Python 3"
    },
    "language_info": {
      "name": "python"
    }
  },
  "cells": [
    {
      "cell_type": "markdown",
      "source": [
        "\n",
        "*  5 задача - вижу, что не работает, + это все можно было сделать гораздо проще через ключ сортировки.\n",
        "*  6 задача - функция не принимает ни одного параметра, а по условию задачи должна принимать их неограниченное количество, как print.\n",
        "*  8 задача - не вызываете функцию. Что у нее за параметры?\n",
        "\n"
      ],
      "metadata": {
        "id": "wxcd5HVnMRRj"
      }
    },
    {
      "cell_type": "code",
      "source": [
        "#5 задача - исправленная версия\n",
        "\n",
        "#ёлка - жмла\n",
        "#елка - елма\n",
        "#ядрёный - ѐдсжоьк\n",
        "#ядреный - ѐдсеоьк\n",
        "#ascii\n",
        "input_words=[str(a) for a in input().split()]\n",
        "corstr='абвгдеёжзийклмнопрстуфхцчшщъыьэюя' \n",
        "corstr_new={}  \n",
        "cor_new=[]\n",
        "incorstr='абвгдежзийклмнопрстуфхцчшщъыьэюяѐ' \n",
        "incorstr_new={}     \n",
        "res=[]\n",
        "\n",
        "for i in range(len(corstr)):\n",
        "    corstr_new[corstr[i]]=incorstr[i]\n",
        "    incorstr_new[incorstr[i]]=corstr[i]    \n",
        "for i in range(len(input_words)):\n",
        "    w1=''\n",
        "    for a in input_words[i]:\n",
        "        w1+=corstr_new[a]\n",
        "    cor_new.append(w1)\n",
        "cor_new.sort()\n",
        "for item in cor_new:\n",
        "    w1=''\n",
        "    for a in item:\n",
        "        w1+=incorstr_new[a]\n",
        "    \n",
        "    res.append(w1)\n",
        "res\n",
        "\n",
        "     "
      ],
      "metadata": {
        "colab": {
          "base_uri": "https://localhost:8080/"
        },
        "id": "LZ6ZRLyFMyqV",
        "outputId": "4278e292-e159-4f39-dd8a-cf69de350e41"
      },
      "execution_count": 41,
      "outputs": [
        {
          "name": "stdout",
          "output_type": "stream",
          "text": [
            "елка\n"
          ]
        },
        {
          "output_type": "execute_result",
          "data": {
            "text/plain": [
              "['елка']"
            ]
          },
          "metadata": {},
          "execution_count": 41
        }
      ]
    },
    {
      "cell_type": "code",
      "source": [
        "#6 задача - исправленная версия\n",
        "\n",
        "#6 задача - функция не принимает ни одного параметра, \n",
        "#а по условию задачи должна принимать их неограниченное количество, \n",
        "#как print.\n",
        "\n",
        "#Напишите функцию, которая принимает неограниченное количество параметров\n",
        "#- целых чисел и верните все эти числа, возведенные в квадрат, в списке.\n",
        "import os\n",
        "import sys\n",
        "\n",
        "def param_sq():\n",
        "    nums=[]\n",
        "    for a in sys.stdin:\n",
        "        a=int(a)\n",
        "        nums.append(a**2)\n",
        "    print(nums)\n",
        "\n",
        "param_sq()"
      ],
      "metadata": {
        "colab": {
          "base_uri": "https://localhost:8080/"
        },
        "id": "ZIt7c23XX8Gp",
        "outputId": "18be5052-cb15-45b1-a182-9e318d94abb9"
      },
      "execution_count": 40,
      "outputs": [
        {
          "output_type": "stream",
          "name": "stdout",
          "text": [
            "[]\n"
          ]
        }
      ]
    },
    {
      "cell_type": "code",
      "source": [
        "#8 задача - исправленная версия\n",
        "#Напишите функцию, которая будет рекурсивно вычислять число Фибоначчи\n",
        "#с номером n по его номеру, но при этом работать она должна за \n",
        "#линейное время (то есть, если вы передаете номер 30, \n",
        "#ваша программа не должна умереть: рекурсивный вызов \n",
        "#внутри функции должен быть только один).\n",
        "i=0\n",
        "n=int(input())  \n",
        "def f_fib(fn,sn,m):\n",
        "    global i\n",
        "    i+=1\n",
        "    if m!=0:\n",
        "        return f_fib(fn+sn,fn,m-1)\n",
        "    elif m==0:\n",
        "        return sn  \n",
        "n\n",
        "print(f_fib(1,0,n)) #число Фибоначчи\n",
        "i\n",
        "\n",
        "\n",
        "#OLD VER\n",
        "#i=0\n",
        "#def fib(fn,sn,m):\n",
        "#    global i\n",
        "#    i+=1\n",
        "#    if m!=0:\n",
        "#        return fib(fn+sn,fn,m-1)\n",
        "#    elif m==0:\n",
        "#        return sn    \n",
        "#n = int(input())\n",
        "\n",
        "#n\n",
        "#i\n",
        "     "
      ],
      "metadata": {
        "colab": {
          "base_uri": "https://localhost:8080/"
        },
        "id": "ed4TL0q5a0Qm",
        "outputId": "0812c074-5f7b-4baa-febf-edbda649d661"
      },
      "execution_count": 64,
      "outputs": [
        {
          "output_type": "stream",
          "name": "stdout",
          "text": [
            "30\n",
            "832040\n"
          ]
        },
        {
          "output_type": "execute_result",
          "data": {
            "text/plain": [
              "31"
            ]
          },
          "metadata": {},
          "execution_count": 64
        }
      ]
    }
  ]
}